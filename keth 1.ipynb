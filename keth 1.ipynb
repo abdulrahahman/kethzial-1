{
 "cells": [
  {
   "cell_type": "code",
   "execution_count": null,
   "id": "52520551",
   "metadata": {},
   "outputs": [],
   "source": [
    "Name:kethzial\n",
    "Batch:DS50122\n",
    "Assignment:1\n",
    "    \n",
    "Write a Python program to get a list, sorted in increasing order by the last element in each tuple from a given list of non-empty tuples\n",
    "\n",
    "\n",
    "\n",
    "Sample List : [(2, 5), (1, 2), (4, 4), (2, 3), (2, 1)]\n",
    "\n",
    "Expected Result : [(2, 1), (1, 2), (2, 3), (4, 4), (2, 5)]\n",
    "\n"
   ]
  },
  {
   "cell_type": "code",
   "execution_count": 1,
   "id": "97e6f5bb",
   "metadata": {},
   "outputs": [
    {
     "name": "stdout",
     "output_type": "stream",
     "text": [
      "[(2, 1), (1, 2), (3, 3), (4, 5), (8, 9), (11, 10), (8, 34)]\n"
     ]
    }
   ],
   "source": [
    "def i(n): return n[-1]\n",
    "def sort_list_i(tuples):\n",
    "    return sorted(tuples, key=i)\n",
    "print(sort_list_i([(4,5),(1,2), (3,3) ,(8,34) ,(2,1) ,(8,9) ,(11,10)]))"
   ]
  },
  {
   "cell_type": "code",
   "execution_count": null,
   "id": "f86fb595",
   "metadata": {},
   "outputs": [],
   "source": []
  }
 ],
 "metadata": {
  "kernelspec": {
   "display_name": "Python 3 (ipykernel)",
   "language": "python",
   "name": "python3"
  },
  "language_info": {
   "codemirror_mode": {
    "name": "ipython",
    "version": 3
   },
   "file_extension": ".py",
   "mimetype": "text/x-python",
   "name": "python",
   "nbconvert_exporter": "python",
   "pygments_lexer": "ipython3",
   "version": "3.8.6"
  }
 },
 "nbformat": 4,
 "nbformat_minor": 5
}
